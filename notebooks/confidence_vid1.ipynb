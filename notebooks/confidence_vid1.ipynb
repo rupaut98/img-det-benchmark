{
 "cells": [
  {
   "cell_type": "code",
   "execution_count": 11,
   "metadata": {},
   "outputs": [
    {
     "name": "stdout",
     "output_type": "stream",
     "text": [
      "         Object  Confidence\n",
      "0      backpack    0.324322\n",
      "1  baseball bat    0.265569\n",
      "2         bench    0.260719\n",
      "3           car    0.352665\n",
      "4       frisbee    0.331689\n",
      "5       handbag    0.334265\n",
      "6        person    0.858184\n",
      "7    skateboard    0.316834\n",
      "8         truck    0.719170\n"
     ]
    }
   ],
   "source": [
    "#yolov8\n",
    "\n",
    "import pandas as pd\n",
    "\n",
    "# Replace the path with your actual file path\n",
    "file_path = '/Users/rupakraut/Desktop/yolov8_vid1.csv'\n",
    "\n",
    "# Load the CSV file into a DataFrame\n",
    "detections_df = pd.read_csv(file_path)\n",
    "\n",
    "unique_detections_df = detections_df.groupby(['Frame', 'Object']).first().reset_index()\n",
    "\n",
    "# If you want to see the first 20 rows of the unique detections\n",
    "mean_confidence_v8_df = unique_detections_df.groupby('Object')['Confidence'].mean().reset_index()\n",
    "\n",
    "# Display the mean confidence for each object\n",
    "print(mean_confidence_v8_df)"
   ]
  },
  {
   "cell_type": "code",
   "execution_count": 12,
   "metadata": {},
   "outputs": [
    {
     "name": "stdout",
     "output_type": "stream",
     "text": [
      "         Object  Confidence\n",
      "0      backpack    0.332606\n",
      "1         bench    0.405148\n",
      "2       bicycle    0.355403\n",
      "3           car    0.345960\n",
      "4       frisbee    0.401698\n",
      "5       handbag    0.316137\n",
      "6        person    0.843945\n",
      "7  potted plant    0.379959\n",
      "8    skateboard    0.287058\n",
      "9         truck    0.710240\n"
     ]
    }
   ],
   "source": [
    "#yolov5\n",
    "\n",
    "import pandas as pd\n",
    "\n",
    "# Replace the path with your actual file path\n",
    "file_path = '/Users/rupakraut/Desktop/yolov5_vid1.csv'\n",
    "\n",
    "# Load the CSV file into a DataFrame\n",
    "detections_df = pd.read_csv(file_path)\n",
    "\n",
    "unique_detections_df = detections_df.groupby(['Frame', 'Object']).first().reset_index()\n",
    "\n",
    "# If you want to see the first 20 rows of the unique detections\n",
    "mean_confidence_v5_df = unique_detections_df.groupby('Object')['Confidence'].mean().reset_index()\n",
    "\n",
    "# Display the mean confidence for each object\n",
    "print(mean_confidence_v5_df)"
   ]
  },
  {
   "cell_type": "code",
   "execution_count": 13,
   "metadata": {},
   "outputs": [
    {
     "name": "stdout",
     "output_type": "stream",
     "text": [
      "         Object  Confidence\n",
      "0      backpack    0.259097\n",
      "1  baseball bat    0.356125\n",
      "2         bench    0.283097\n",
      "3           car    0.359172\n",
      "4       handbag    0.392830\n",
      "5        person    0.885795\n",
      "6         truck    0.743331\n"
     ]
    }
   ],
   "source": [
    "#yolov3\n",
    "\n",
    "import pandas as pd\n",
    "\n",
    "# Replace the path with your actual file path\n",
    "file_path = '/Users/rupakraut/Desktop/yolov8_vid1.csv'\n",
    "\n",
    "# Load the CSV file into a DataFrame\n",
    "detections_df = pd.read_csv(file_path)\n",
    "\n",
    "unique_detections_df = detections_df.groupby(['Frame', 'Object']).first().reset_index()\n",
    "\n",
    "# If you want to see the first 20 rows of the unique detections\n",
    "mean_confidence_v3_df = unique_detections_df.groupby('Object')['Confidence'].mean().reset_index()\n",
    "\n",
    "# Display the mean confidence for each object\n",
    "print(mean_confidence_v3_df)"
   ]
  },
  {
   "cell_type": "code",
   "execution_count": 14,
   "metadata": {},
   "outputs": [
    {
     "name": "stdout",
     "output_type": "stream",
     "text": [
      "            Object  Confidence Score\n",
      "0         airplane          0.359837\n",
      "1         backpack          0.253766\n",
      "2     baseball bat          0.172124\n",
      "3   baseball glove          0.189526\n",
      "4            bench          0.254764\n",
      "5          bicycle          0.191999\n",
      "6             bird          0.191377\n",
      "7             boat          0.146002\n",
      "8           bottle          0.164895\n",
      "9             bowl          0.197904\n",
      "10             bus          0.222197\n",
      "11             car          0.205124\n",
      "12             cat          0.149499\n",
      "13      cell phone          0.246638\n",
      "14           chair          0.228227\n",
      "15           clock          0.159817\n",
      "17             cow          0.200582\n",
      "18             cup          0.166700\n",
      "20             dog          0.218754\n",
      "21        elephant          0.187003\n",
      "22    fire hydrant          0.180718\n",
      "23         frisbee          0.177462\n",
      "24         giraffe          0.445738\n",
      "25         handbag          0.373602\n",
      "26           horse          0.260444\n",
      "27            kite          0.161864\n",
      "29   parking meter          0.210477\n",
      "30          person          0.779649\n",
      "32          remote          0.175459\n",
      "33           sheep          0.195818\n",
      "34            sink          0.201253\n",
      "35      skateboard          0.215345\n",
      "36     sports ball          0.179760\n",
      "37       stop sign          0.154565\n",
      "38        suitcase          0.173529\n",
      "39       surfboard          0.160551\n",
      "40      teddy bear          0.161577\n",
      "41   tennis racket          0.186134\n",
      "42             tie          0.174097\n",
      "43   traffic light          0.168721\n",
      "44           train          0.216876\n",
      "45           truck          0.239588\n",
      "46        umbrella          0.202476\n",
      "47            vase          0.143041\n",
      "48      wine glass          0.191015\n",
      "49           zebra          0.181291\n"
     ]
    }
   ],
   "source": [
    "#SSD\n",
    "\n",
    "import pandas as pd\n",
    "\n",
    "# Replace the path with your actual file path\n",
    "file_path = '/Users/rupakraut/Desktop/vid1_ssd.csv'\n",
    "necessary_objects_path = '/Users/rupakraut/Desktop/classes.csv'\n",
    "\n",
    "# Load the CSV file into a DataFrame\n",
    "detections_df = pd.read_csv(file_path)\n",
    "\n",
    "unique_detections_df = detections_df.groupby(['Frame Number', 'Object']).first().reset_index()\n",
    "\n",
    "# If you want to see the first 20 rows of the unique detections\n",
    "mean_confidence_ssd_df = unique_detections_df.groupby('Object')['Confidence Score'].mean().reset_index()\n",
    "\n",
    "necessary_objects_df = pd.read_csv(necessary_objects_path)\n",
    "\n",
    "filtered_mean_confidence_ssd_df = mean_confidence_ssd_df[mean_confidence_ssd_df['Object'].isin(necessary_objects_df['Objects'])]\n",
    "# Display the mean confidence for each object\n",
    "print(filtered_mean_confidence_ssd_df)"
   ]
  },
  {
   "cell_type": "code",
   "execution_count": 32,
   "metadata": {},
   "outputs": [],
   "source": [
    "import pandas as pd\n",
    "\n",
    "df1 = mean_confidence_v8_df\n",
    "df2 = mean_confidence_v5_df\n",
    "df3 = mean_confidence_v3_df\n",
    "df4 = filtered_mean_confidence_ssd_df\n",
    "\n",
    "# Identify unique objects across all dataframes\n",
    "unique_objects = pd.unique(df1['Object'].tolist() + df2['Object'].tolist() + df3['Object'].tolist() + \n",
    "                           df4['Object'].tolist())\n",
    "\n",
    "# Create a new dataframe with unique objects\n",
    "combined_df = pd.DataFrame(unique_objects, columns=['Object'])\n",
    "\n",
    "# Merge the original dataframes with the new dataframe\n",
    "combined_df = combined_df.merge(df1, on='Object', how='left').rename(columns={'Confidence': 'Confidence_1'})\n",
    "combined_df = combined_df.merge(df2, on='Object', how='left').rename(columns={'Confidence': 'Confidence_2'})\n",
    "combined_df = combined_df.merge(df3, on='Object', how='left').rename(columns={'Confidence': 'Confidence_3'})\n",
    "combined_df = combined_df.merge(df4, on='Object', how='left').rename(columns={'Confidence Score': 'Confidence_4'})\n",
    "combined_df = combined_df.fillna(0)\n",
    "\n",
    "combined_df = combined_df[:15]\n",
    "# Now combined_df has one column for objects and three columns for confidences"
   ]
  },
  {
   "cell_type": "code",
   "execution_count": 34,
   "metadata": {},
   "outputs": [
    {
     "data": {
      "image/png": "[encoded data removed]",
      "text/plain": [
       "<Figure size 1400x700 with 1 Axes>"
      ]
     },
     "metadata": {},
     "output_type": "display_data"
    }
   ],
   "source": [
    "import matplotlib.pyplot as plt\n",
    "import numpy as np\n",
    "\n",
    "# Set the figure size for better readability\n",
    "plt.figure(figsize=(14, 7))\n",
    "\n",
    "# Define the width of the bars\n",
    "bar_width = 0.17\n",
    "\n",
    "# Get the positions of the bars on the x-axis\n",
    "index = np.arange(len(combined_df))\n",
    "\n",
    "# Plotting the bars for each confidence\n",
    "plt.bar(index, combined_df['Confidence_1'], width=bar_width, label='Yolov8')\n",
    "plt.bar(index + bar_width, combined_df['Confidence_2'], width=bar_width, label='Yolov5')\n",
    "plt.bar(index + 2*bar_width, combined_df['Confidence_3'], width=bar_width, label='Yolov3')\n",
    "plt.bar(index + 3*bar_width, combined_df['Confidence_4'], width=bar_width, label='SSD')\n",
    "\n",
    "# Add labels to the x-axis for each group of bars\n",
    "plt.xlabel('Object', fontweight='bold')\n",
    "plt.xticks(index + bar_width, combined_df['Object'], rotation=90)\n",
    "\n",
    "# Add labels and title\n",
    "plt.ylabel('Confidence', fontweight='bold')\n",
    "plt.title('Confidence levels by Object')\n",
    "\n",
    "# Create a legend\n",
    "plt.legend()\n",
    "\n",
    "# Show the plot\n",
    "plt.tight_layout()  # Adjust the plot to ensure everything fits without overlapping\n",
    "plt.show()"
   ]
  },
  {
   "cell_type": "code",
   "execution_count": null,
   "metadata": {},
   "outputs": [],
   "source": []
  }
 ],
 "metadata": {
  "kernelspec": {
   "display_name": "Python 3 (ipykernel)",
   "language": "python",
   "name": "python3"
  },
  "language_info": {
   "codemirror_mode": {
    "name": "ipython",
    "version": 3
   },
   "file_extension": ".py",
   "mimetype": "text/x-python",
   "name": "python",
   "nbconvert_exporter": "python",
   "pygments_lexer": "ipython3",
   "version": "3.11.4"
  }
 },
 "nbformat": 4,
 "nbformat_minor": 2
}
