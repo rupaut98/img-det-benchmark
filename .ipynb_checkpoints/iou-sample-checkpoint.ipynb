{
 "cells": [
  {
   "cell_type": "code",
   "execution_count": null,
   "id": "154db568-e625-406c-80be-7806ea48ed2b",
   "metadata": {},
   "outputs": [],
   "source": [
    "import pandas as pd"
   ]
  },
  {
   "cell_type": "markdown",
   "id": "0e17f15c-aacc-4e18-ae0e-46032c9003fa",
   "metadata": {},
   "source": [
    "#### Make a column with your bounding box list"
   ]
  },
  {
   "cell_type": "code",
   "execution_count": 43,
   "id": "f7c229d6-c767-49d5-9b2c-2dfd6033066d",
   "metadata": {},
   "outputs": [],
   "source": [
    "df = pd.read_csv(\"object_detection_results-v8.csv\")\n",
    "df['Coordinates'] = df[['X1', 'Y1', 'X2', 'Y2']].values.tolist()"
   ]
  },
  {
   "cell_type": "code",
   "execution_count": 42,
   "id": "486cad38-bd83-4041-bc06-991b6a351fe4",
   "metadata": {},
   "outputs": [],
   "source": [
    "df_2 = pd.read_csv(\"object_detection_results-v8.csv\")\n",
    "df_2['Coordinates'] = df_2[['X1', 'Y1', 'X2', 'Y2']].values.tolist()"
   ]
  },
  {
   "cell_type": "markdown",
   "id": "0a7cdd23-df75-4f12-8bc2-c49276717097",
   "metadata": {},
   "source": [
    "### This function calculates the intersection over union  (iou)"
   ]
  },
  {
   "cell_type": "code",
   "execution_count": 32,
   "id": "d549e417-7018-45fa-8662-d18b86c727a7",
   "metadata": {},
   "outputs": [],
   "source": [
    "def calculate_intersection(box_a, box_b):\n",
    "    x_left = max(box_a[0], box_b[0])\n",
    "    y_top = max(box_a[1], box_b[1])\n",
    "    x_right = min(box_a[2], box_b[2])\n",
    "    y_bottom = min(box_a[3], box_b[3])\n",
    "    if x_right < x_left or y_bottom < y_top:\n",
    "        return 0.0\n",
    "    return (x_right - x_left) * (y_bottom - y_top)\n",
    "\n",
    "def calculate_iou(box_a, box_b):\n",
    "    intersection = calculate_intersection(box_a, box_b)\n",
    "    box_a_area = (box_a[2] - box_a[0]) * (box_a[3] - box_a[1])\n",
    "    box_b_area = (box_b[2] - box_b[0]) * (box_b[3] - box_b[1])\n",
    "    union = box_a_area + box_b_area - intersection\n",
    "    return intersection / union if union != 0 else 0\n",
    "\n",
    "ious = [calculate_iou(box_a, box_b) for box_a, box_b in zip(df['Coordinates'], df_2['Coordinates'])]"
   ]
  },
  {
   "cell_type": "markdown",
   "id": "27eac770-45f2-4ce1-9201-c38158ee3e34",
   "metadata": {},
   "source": [
    "### Visualize some of your bounding boxes to get some sense of your data"
   ]
  },
  {
   "cell_type": "code",
   "execution_count": 25,
   "id": "3fe304d4-32fb-43cc-8fd3-fb9585a909cd",
   "metadata": {},
   "outputs": [
    {
     "data": {
      "image/png": "[encoded data removed]",
      "text/plain": [
       "<Figure size 640x480 with 1 Axes>"
      ]
     },
     "metadata": {},
     "output_type": "display_data"
    }
   ],
   "source": [
    "import matplotlib.pyplot as plt\n",
    "import matplotlib.patches as patches\n",
    "\n",
    "coordinates = df['Coordinates'][:10]\n",
    "\n",
    "# Create a new plot\n",
    "fig, ax = plt.subplots()\n",
    "\n",
    "for coord in coordinates:\n",
    "    # coord[0] is x1, coord[1] is y1, coord[2]-coord[0] is the width, and coord[3]-coord[1] is the height\n",
    "    rect = patches.Rectangle((coord[0], coord[1]), coord[2]-coord[0], coord[3]-coord[1], \n",
    "                             linewidth=1, edgecolor='r', facecolor='none')\n",
    "    ax.add_patch(rect)\n",
    "\n",
    "# Set the limits of the plot to the min and max of the x and y coordinates\n",
    "all_x_coords = [coord[0] for coord in coordinates] + [coord[2] for coord in coordinates]\n",
    "all_y_coords = [coord[1] for coord in coordinates] + [coord[3] for coord in coordinates]\n",
    "ax.set_xlim(min(all_x_coords), max(all_x_coords))\n",
    "ax.set_ylim(min(all_y_coords), max(all_y_coords))\n",
    "\n",
    "# Add labels and title\n",
    "plt.xlabel('X coordinate')\n",
    "plt.ylabel('Y coordinate')\n",
    "plt.show()\n"
   ]
  },
  {
   "cell_type": "markdown",
   "id": "a0dd485d-c5bd-4018-8a7f-82db77f1cdb7",
   "metadata": {},
   "source": [
    "### Next steps:\n",
    "* Start creating folders for specific videos\n",
    "* If possible have the video in the repo (but I would ideally want to start using the other video dataset with actual bounding box truth value\n",
    "* V5.csv file does not corespond to the same video as v8 right now so please create folders"
   ]
  },
  {
   "cell_type": "code",
   "execution_count": null,
   "id": "3e2bfb50-73b3-4cb4-8028-4ad8f0841b23",
   "metadata": {},
   "outputs": [],
   "source": []
  }
 ],
 "metadata": {
  "kernelspec": {
   "display_name": "Python 3 (ipykernel)",
   "language": "python",
   "name": "python3"
  },
  "language_info": {
   "codemirror_mode": {
    "name": "ipython",
    "version": 3
   },
   "file_extension": ".py",
   "mimetype": "text/x-python",
   "name": "python",
   "nbconvert_exporter": "python",
   "pygments_lexer": "ipython3",
   "version": "3.8.16"
  }
 },
 "nbformat": 4,
 "nbformat_minor": 5
}
